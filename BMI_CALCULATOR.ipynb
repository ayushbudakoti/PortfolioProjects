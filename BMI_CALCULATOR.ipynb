{
  "nbformat": 4,
  "nbformat_minor": 0,
  "metadata": {
    "colab": {
      "provenance": [],
      "gpuType": "V28",
      "authorship_tag": "ABX9TyNDauLNQolCE9WlFJ10GOl0",
      "include_colab_link": true
    },
    "kernelspec": {
      "name": "python3",
      "display_name": "Python 3"
    },
    "language_info": {
      "name": "python"
    },
    "accelerator": "TPU"
  },
  "cells": [
    {
      "cell_type": "markdown",
      "metadata": {
        "id": "view-in-github",
        "colab_type": "text"
      },
      "source": [
        "<a href=\"https://colab.research.google.com/github/ayushbudakoti/PortfolioProjects/blob/main/BMI_CALCULATOR.ipynb\" target=\"_parent\"><img src=\"https://colab.research.google.com/assets/colab-badge.svg\" alt=\"Open In Colab\"/></a>"
      ]
    },
    {
      "cell_type": "markdown",
      "source": [
        "BMI CALCULATOR"
      ],
      "metadata": {
        "id": "BkC-MkH6IEOn"
      }
    },
    {
      "cell_type": "code",
      "execution_count": 1,
      "metadata": {
        "id": "TfYkNwDKIAMG",
        "colab": {
          "base_uri": "https://localhost:8080/"
        },
        "outputId": "44bb5d58-ead8-4ca7-9f68-e89f539e0bad"
      },
      "outputs": [
        {
          "output_type": "stream",
          "name": "stdout",
          "text": [
            "ENTER YOUR NAME: Ayush\n",
            "ENTER YOUR WEIGHT IN POUNDS: 218\n",
            "ENTER YOUR HEIGHT IN inches: 75\n",
            "27.245155555555556\n",
            "Ayush You are Overweight\n"
          ]
        }
      ],
      "source": [
        "NAME = input(\"ENTER YOUR NAME: \")\n",
        "WEIGHT =    int(input(\"ENTER YOUR WEIGHT IN POUNDS: \"))\n",
        "\n",
        "HEIGHT = int(input(\"ENTER YOUR HEIGHT IN inches: \"))\n",
        "\n",
        "BMI = (WEIGHT * 703) / (HEIGHT * HEIGHT )\n",
        "print(BMI)\n",
        "if BMI >0:\n",
        "  if (BMI<16):\n",
        "    print(NAME +\" You are Severe Thinness\")\n",
        "  elif (BMI<=17):\n",
        "    print(NAME +\" You are Moderate Thinness\")\n",
        "  elif (BMI<=18.5):\n",
        "    print(NAME +\" You are Mild Thinness\")\n",
        "  elif (BMI<=25):\n",
        "    print(NAME +\" You are Normal\")\n",
        "  elif (BMI<=30):\n",
        "    print(NAME +\" You are Overweight\")\n",
        "  elif (BMI<=35):\n",
        "    print(NAME +\" You are Obese Class I\")\n",
        "  elif (BMI<=40):\n",
        "    print(NAME +\" You are Obese Class II\")\n",
        "  elif (BMI>40):\n",
        "    print(NAME +\" You are Obese Class III\")\n",
        "else:\n",
        "      print(\"ENTER VALID INPUT\")"
      ]
    },
    {
      "cell_type": "code",
      "source": [],
      "metadata": {
        "id": "A-6BLqmNWCrg"
      },
      "execution_count": null,
      "outputs": []
    }
  ]
}