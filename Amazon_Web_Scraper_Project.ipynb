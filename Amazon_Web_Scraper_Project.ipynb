{
  "nbformat": 4,
  "nbformat_minor": 0,
  "metadata": {
    "colab": {
      "provenance": [],
      "authorship_tag": "ABX9TyPCzjHX3W9LNThuquG4pwGh",
      "include_colab_link": true
    },
    "kernelspec": {
      "name": "python3",
      "display_name": "Python 3"
    },
    "language_info": {
      "name": "python"
    }
  },
  "cells": [
    {
      "cell_type": "markdown",
      "metadata": {
        "id": "view-in-github",
        "colab_type": "text"
      },
      "source": [
        "<a href=\"https://colab.research.google.com/github/ayushbudakoti/PortfolioProjects/blob/main/Amazon_Web_Scraper_Project.ipynb\" target=\"_parent\"><img src=\"https://colab.research.google.com/assets/colab-badge.svg\" alt=\"Open In Colab\"/></a>"
      ]
    },
    {
      "cell_type": "code",
      "execution_count": 6,
      "metadata": {
        "id": "UGUdls7cQKen"
      },
      "outputs": [],
      "source": [
        "from bs4 import BeautifulSoup\n",
        "import requests\n",
        "import time\n",
        "import smtplib\n",
        "import datetime"
      ]
    },
    {
      "cell_type": "code",
      "source": [
        "\n",
        "URL = 'https://www.amazon.com/Hanes-Short-Sleeve-Beefy-T-Shirt-Black/dp/B00NOY3JOS/ref=sr_1_6?crid=25IPRRA807JHD&dib=eyJ2IjoiMSJ9.3Lm7fLDfQPzAOSUswa262IQA1Zu_FCskhU-D8ygcHCI6GBPojArssUmb_g9Fh8S7JDnVPyhS8Zxfs7Rq1JbCmT5E0QtmcOnSz4DKp1ow60irLTvL7TnjR8lWkBQZTKPSG8QkWCnwZVVJcNoGLqFN7ksHmc-Xr175bx-gkmquNlg9v4kIPHQET1glr1Tge39oiFzuew25SSUc5ssdY512LOfjAbUjwQBDM6xXTpusT_IBaMn4Judp_hCbErWQf-_Qwmmkl6tGZKG4IrZYtuNMdIlf92sX59WwQvTAzua5gqQ.a-aenj5H21selzGkPdEhCgdMmECEkZCXP4rCJMHRaFo&dib_tag=se&keywords=t-shirt&qid=1724213723&s=apparel&sprefix=tshir%2Cfashion%2C384&sr=1-6'\n",
        "\n",
        "headers = {\n",
        "    \"User-Agent\": \"Mozilla/5.0 (Windows NT 10.0; Win64; x64) AppleWebKit/537.36 (KHTML, like Gecko) Chrome/78.0.3904.108 Safari/537.36\",\n",
        "    \"Accept-Encoding\": \"gzip, deflate\",\n",
        "    \"Accept\": \"text/html,application/xhtml+xml,application/xml;q=0.9,*/*;q=0.8\",\n",
        "    \"DNT\": \"1\",\n",
        "    \"Connection\": \"close\",\n",
        "    \"Upgrade-Insecure-Requests\": \"1\"\n",
        "}\n",
        "\n",
        "page = requests.get(URL, headers=headers)\n",
        "\n",
        "soup1 = BeautifulSoup(page.content, \"html.parser\")\n",
        "soup2 = BeautifulSoup(soup1.prettify(), \"html.parser\")\n",
        "\n",
        "# Get the product title\n",
        "title = soup2.find(id='productTitle')\n",
        "if title:\n",
        "    title = title.get_text().strip()\n",
        "    print(\"Title:\", title)\n",
        "else:\n",
        "    print(\"Product title not found\")\n",
        "\n",
        "# Get the price\n",
        "price_tag = soup2.find(id='a-price-whole')\n",
        "if price_tag:\n",
        "    price = price_tag.get_text().strip()\n",
        "    print(\"Price:\", price)\n",
        "else:\n",
        "    print(\"Price not found\")\n",
        "\n",
        "# Get the rating\n",
        "rating_tag = soup2.find(id='acrPopover')\n",
        "if rating_tag:\n",
        "    rating = rating_tag.get_text().strip()\n",
        "    print(\"Rating:\", rating)\n",
        "else:\n",
        "    print(\"Rating not found\")\n",
        "\n"
      ],
      "metadata": {
        "colab": {
          "base_uri": "https://localhost:8080/"
        },
        "id": "cfCNqM5T6Tr7",
        "outputId": "6ad8768f-e6dc-4215-9102-d5e8341a758d"
      },
      "execution_count": 7,
      "outputs": [
        {
          "output_type": "stream",
          "name": "stdout",
          "text": [
            "Title: Hanes Men's T-Shirt, Beefy-T Heavyweight Cotton Crewneck Tee, 1 or 2 Pack, Available in Tall Sizes\n",
            "Price not found\n",
            "Rating: 4.5\n",
            "                     \n",
            "\n",
            "\n",
            "                       4.5 out of 5 stars\n"
          ]
        }
      ]
    },
    {
      "cell_type": "code",
      "source": [
        "title = title.strip()\n",
        "rating = rating.strip()\n",
        "print(title)\n",
        "print(rating)"
      ],
      "metadata": {
        "colab": {
          "base_uri": "https://localhost:8080/"
        },
        "id": "DXrX0JaiRsSi",
        "outputId": "fef06533-c070-49f8-b727-c959202ed684"
      },
      "execution_count": 8,
      "outputs": [
        {
          "output_type": "stream",
          "name": "stdout",
          "text": [
            "Hanes Men's T-Shirt, Beefy-T Heavyweight Cotton Crewneck Tee, 1 or 2 Pack, Available in Tall Sizes\n",
            "4.5\n",
            "                     \n",
            "\n",
            "\n",
            "                       4.5 out of 5 stars\n"
          ]
        }
      ]
    },
    {
      "cell_type": "code",
      "source": [
        "import datetime\n",
        "today = datetime.date.today()\n",
        "print(today)"
      ],
      "metadata": {
        "colab": {
          "base_uri": "https://localhost:8080/"
        },
        "id": "-FsZkK-JYeFr",
        "outputId": "285b44d3-177f-4766-a296-78687351929d"
      },
      "execution_count": 9,
      "outputs": [
        {
          "output_type": "stream",
          "name": "stdout",
          "text": [
            "2024-08-21\n"
          ]
        }
      ]
    },
    {
      "cell_type": "code",
      "source": [
        "import csv\n",
        "header = ['Title', 'Rating', 'Date']\n",
        "data = [title, rating, today]\n",
        "\n",
        "with open('AmazonWebScraperDataset.csv', 'w', newline='', encoding='UTF8') as f:\n",
        "    writer = csv.writer(f)\n",
        "    writer.writerow(header)\n",
        "    writer.writerow(data)"
      ],
      "metadata": {
        "id": "8B7C4WUNWBrM"
      },
      "execution_count": 10,
      "outputs": []
    },
    {
      "cell_type": "code",
      "source": [
        "import pandas as pd\n",
        "\n",
        "df = pd.read_csv(r\"AmazonWebScraperDataset.csv\")\n",
        "print(df)"
      ],
      "metadata": {
        "colab": {
          "base_uri": "https://localhost:8080/"
        },
        "id": "5pBAKIgiYvmU",
        "outputId": "3ff35bf2-64b2-40da-d0c2-1795deed1bad"
      },
      "execution_count": 11,
      "outputs": [
        {
          "output_type": "stream",
          "name": "stdout",
          "text": [
            "                                               Title  \\\n",
            "0  Hanes Men's T-Shirt, Beefy-T Heavyweight Cotto...   \n",
            "\n",
            "                                              Rating        Date  \n",
            "0  4.5\\n                     \\n\\n\\n              ...  2024-08-21  \n"
          ]
        }
      ]
    },
    {
      "cell_type": "code",
      "source": [
        "#now we are appending data to csv\n",
        "with open('AmazonWebScraperDataset.csv', 'a+', newline='', encoding='UTF8') as f:\n",
        "    writer = csv.writer(f)\n",
        "    writer.writerow(data)"
      ],
      "metadata": {
        "id": "uYpcMQB7ZWLs"
      },
      "execution_count": 12,
      "outputs": []
    },
    {
      "cell_type": "code",
      "source": [
        "def check_rating():\n",
        " URL = 'https://www.amazon.com/Hanes-Short-Sleeve-Beefy-T-Shirt-Black/dp/B00NOY3JOS/ref=sr_1_6?crid=25IPRRA807JHD&dib=eyJ2IjoiMSJ9.3Lm7fLDfQPzAOSUswa262IQA1Zu_FCskhU-D8ygcHCI6GBPojArssUmb_g9Fh8S7JDnVPyhS8Zxfs7Rq1JbCmT5E0QtmcOnSz4DKp1ow60irLTvL7TnjR8lWkBQZTKPSG8QkWCnwZVVJcNoGLqFN7ksHmc-Xr175bx-gkmquNlg9v4kIPHQET1glr1Tge39oiFzuew25SSUc5ssdY512LOfjAbUjwQBDM6xXTpusT_IBaMn4Judp_hCbErWQf-_Qwmmkl6tGZKG4IrZYtuNMdIlf92sX59WwQvTAzua5gqQ.a-aenj5H21selzGkPdEhCgdMmECEkZCXP4rCJMHRaFo&dib_tag=se&keywords=t-shirt&qid=1724213723&s=apparel&sprefix=tshir%2Cfashion%2C384&sr=1-6'\n",
        "\n",
        "\n",
        "headers = {\n",
        "    \"User-Agent\": \"Mozilla/5.0 (Windows NT 10.0; Win64; x64) AppleWebKit/537.36 (KHTML, like Gecko) Chrome/78.0.3904.108 Safari/537.36\",\n",
        "    \"Accept-Encoding\": \"gzip, deflate\",\n",
        "    \"Accept\": \"text/html,application/xhtml+xml,application/xml;q=0.9,*/*;q=0.8\",\n",
        "    \"DNT\": \"1\",\n",
        "    \"Connection\": \"close\",\n",
        "    \"Upgrade-Insecure-Requests\": \"1\"\n",
        "}\n",
        "\n",
        "page = requests.get(URL, headers=headers)\n",
        "\n",
        "soup1 = BeautifulSoup(page.content, \"html.parser\")\n",
        "soup2 = BeautifulSoup(soup1.prettify(), \"html.parser\")\n",
        "\n",
        "# Get the product title\n",
        "title = soup2.find(id='productTitle')\n",
        "if title:\n",
        "    title = title.get_text().strip()\n",
        "    print(\"Title:\", title)\n",
        "else:\n",
        "    print(\"Product title not found\")\n",
        "\n",
        "# Get the price\n",
        "price_tag = soup2.find(id='a-price-whole')\n",
        "if price_tag:\n",
        "    price = price_tag.get_text().strip()\n",
        "    print(\"Price:\", price)\n",
        "else:\n",
        "    print(\"Price not found\")\n",
        "\n",
        "# Get the rating\n",
        "rating_tag = soup2.find(id='acrPopover')\n",
        "if rating_tag:\n",
        "    rating = rating_tag.get_text().strip()\n",
        "    print(\"Rating:\", rating)\n",
        "else:\n",
        "    print(\"Rating not found\")\n",
        "\n",
        "\n",
        "import datetime\n",
        "today = datetime.date.today()\n",
        "print(today)\n",
        "\n",
        "import csv\n",
        "header = ['Title', 'Rating', 'Date']\n",
        "data = [title, rating, today]\n",
        "\n",
        "with open('AmazonWebScraperDataset.csv', 'w', newline='', encoding='UTF8') as f:\n",
        "    writer = csv.writer(f)\n",
        "    writer.writerow(header)\n",
        "    writer.writerow(data)"
      ],
      "metadata": {
        "colab": {
          "base_uri": "https://localhost:8080/"
        },
        "id": "U0CHuASCZ8Ed",
        "outputId": "00f8aa03-6825-44e7-e127-b37c43840a5e"
      },
      "execution_count": 14,
      "outputs": [
        {
          "output_type": "stream",
          "name": "stdout",
          "text": [
            "Title: Hanes Men's T-Shirt, Beefy-T Heavyweight Cotton Crewneck Tee, 1 or 2 Pack, Available in Tall Sizes\n",
            "Price not found\n",
            "Rating: 4.5\n",
            "                     \n",
            "\n",
            "\n",
            "                       4.5 out of 5 stars\n",
            "2024-08-21\n"
          ]
        }
      ]
    },
    {
      "cell_type": "code",
      "source": [
        "while(True):\n",
        "    check_rating()\n",
        "    time.sleep(5)"
      ],
      "metadata": {
        "id": "lN4xErfwamP8"
      },
      "execution_count": null,
      "outputs": []
    },
    {
      "cell_type": "code",
      "source": [
        "def send_mail():\n",
        "   server = smtplib.SMTP_SSL('smtp.gmail.com',465)\n",
        "   server.ehlo()\n",
        "   #server.start\n",
        "   server.ehlo()\n",
        "   server.login('ayushbudakoti009@gmail.com')\n",
        "\n",
        "   subject = \"The Shirt you want is below $15! Now is your chance to buy!\"\n",
        "   body = \"Ayush, This is the moment we have been waiting for. Now is your chance to pick up the shirt of your dreams. Don't mess it up! Link here: https://www.amazon.com/Hanes-Short-Sleeve-Beefy-T-Shirt-Black/dp/B00NOY3JOS/ref=sr_1_6?crid=25IPRRA807JHD&dib=eyJ2IjoiMSJ9.3Lm7fLDfQPzAOSUswa262IQA1Zu_FCskhU-D8ygcHCI6GBPojArssUmb_g9Fh8S7JDnVPyhS8Zxfs7Rq1JbCmT5E0QtmcOnSz4DKp1ow60irLTvL7TnjR8lWkBQZTKPSG8QkWCnwZVVJcNoGLqFN7ksHmc-Xr175bx-gkmquNlg9v4kIPHQET1glr1Tge39oiFzuew25SSUc5ssdY512LOfjAbUjwQBDM6xXTpusT_IBaMn4Judp_hCbErWQf-_Qwmmkl6tGZKG4IrZYtuNMdIlf92sX59WwQvTAzua5gqQ.a-aenj5H21selzGkPdEhCgdMmECEkZCXP4rCJMHRaFo&dib_tag=se&keywords=t-shirt&qid=1724213723&s=apparel&sprefix=tshir%2Cfashion%2C384&sr=1-6\"\n",
        "   msg = f\"Subject: {subject}\\n\\n{body}\"\n",
        "\n",
        "   server.sendmail(\n",
        "       'ayushbudakoti009@gmail.com',\n",
        "       msg\n",
        "   )\n"
      ],
      "metadata": {
        "id": "vYFTAxG7avWM"
      },
      "execution_count": null,
      "outputs": []
    },
    {
      "cell_type": "code",
      "source": [],
      "metadata": {
        "id": "Jh1esev4jECi"
      },
      "execution_count": null,
      "outputs": []
    }
  ]
}